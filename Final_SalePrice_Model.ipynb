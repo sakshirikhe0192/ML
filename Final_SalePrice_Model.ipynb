{
  "nbformat": 4,
  "nbformat_minor": 0,
  "metadata": {
    "colab": {
      "name": "Final_SalePrice_Model",
      "provenance": [],
      "collapsed_sections": [],
      "authorship_tag": "ABX9TyMx6VWyt7AOcHjRvAq6M3Rj",
      "include_colab_link": true
    },
    "kernelspec": {
      "name": "python3",
      "display_name": "Python 3"
    }
  },
  "cells": [
    {
      "cell_type": "markdown",
      "metadata": {
        "id": "view-in-github",
        "colab_type": "text"
      },
      "source": [
        "<a href=\"https://colab.research.google.com/github/sakshirikhe0192/ML/blob/master/Final_SalePrice_Model.ipynb\" target=\"_parent\"><img src=\"https://colab.research.google.com/assets/colab-badge.svg\" alt=\"Open In Colab\"/></a>"
      ]
    },
    {
      "cell_type": "code",
      "metadata": {
        "id": "xI1MDGh0fbk9",
        "colab_type": "code",
        "colab": {}
      },
      "source": [
        "#importing dataframe\n",
        "import pandas as pd\n",
        "\n",
        "train=pd.read_csv(\"train.csv\")"
      ],
      "execution_count": 0,
      "outputs": []
    },
    {
      "cell_type": "code",
      "metadata": {
        "id": "qKKl1kjiiwP6",
        "colab_type": "code",
        "colab": {}
      },
      "source": [
        "#seprating numerical and categorical dataframe\n",
        "train_numerical=train.select_dtypes(include=['int64',]).copy()\n",
        "train_numerical_col=train_numerical.columns\n",
        "\n",
        "train_categorical=train.select_dtypes(include=['object']).copy()\n",
        "train_categorical_col=train_categorical.columns"
      ],
      "execution_count": 0,
      "outputs": []
    },
    {
      "cell_type": "code",
      "metadata": {
        "id": "X8i6gxW6i5A1",
        "colab_type": "code",
        "colab": {}
      },
      "source": [
        "#No null in numerical\n",
        "train_categorical.fillna('NA',inplace=True)"
      ],
      "execution_count": 0,
      "outputs": []
    },
    {
      "cell_type": "code",
      "metadata": {
        "id": "guKxnUrgi8Y3",
        "colab_type": "code",
        "colab": {}
      },
      "source": [
        "#finding skewness and taking log for numerical data\n",
        "import numpy as np\n",
        "\n",
        "class skew_dict(dict):\n",
        "  def __init__(self): \n",
        "        self = dict() \n",
        "\n",
        "  def add(self,key,value):\n",
        "    self[key]=value\n",
        "\n",
        "skewd=skew_dict()\n",
        "#kurtd=skew_dict()\n",
        "for i in train_numerical_col:\n",
        "        skewd.add(i,train_numerical[i].skew())\n",
        "        #kurtd.add(i,train_numerical[i].kurt())\n",
        "\n",
        "for j in skewd:\n",
        "  if (skewd[j] < -0.5) or (skewd[j] > 0.5):\n",
        "    print(j)\n",
        "    print('{0}_Log'.format(j))\n",
        "    train_numerical['{0}_Log'.format(j)]=np.log(train_numerical[j])\n",
        "    train_numerical.drop(j,inplace=True,axis=1)\n",
        "\n",
        "train_numerical.replace([-np.inf],0,inplace = True)\n",
        "train_numerical"
      ],
      "execution_count": 0,
      "outputs": []
    },
    {
      "cell_type": "code",
      "metadata": {
        "id": "X4r_TaWhjX70",
        "colab_type": "code",
        "colab": {}
      },
      "source": [
        "#Applying label encoding on categorical data\n",
        "from sklearn.preprocessing import LabelEncoder\n",
        "lb_make=LabelEncoder()\n",
        "\n",
        "for i in train_categorical_col:\n",
        "  train_categorical[i]=lb_make.fit_transform(train_categorical[i])\n",
        "train_categorical"
      ],
      "execution_count": 0,
      "outputs": []
    },
    {
      "cell_type": "code",
      "metadata": {
        "id": "XNoIWVj-jbak",
        "colab_type": "code",
        "colab": {}
      },
      "source": [
        "#finding skewness and taking log for categorical data\n",
        "import numpy as np\n",
        "\n",
        "class skew_dict(dict):\n",
        "  def __init__(self): \n",
        "        self = dict() \n",
        "\n",
        "  def add(self,key,value):\n",
        "    self[key]=value\n",
        "\n",
        "skewd=skew_dict()\n",
        "#kurtd=skew_dict()\n",
        "for i in train_categorical_col:\n",
        "        skewd.add(i,train_categorical[i].skew())\n",
        "        #kurtd.add(i,train_numerical[i].kurt())\n",
        "print(skewd)\n",
        "\n",
        "for j in skewd:\n",
        "  if (skewd[j] < -0.5) or (skewd[j] > 0.5):\n",
        "    print(j)\n",
        "    print('{0}_Log'.format(j))\n",
        "    train_categorical['{0}_Log'.format(j)]=np.log(train_categorical[j])\n",
        "    train_categorical.drop(j,inplace=True,axis=1)\n",
        "#Replacing nan and -infs with 0\n",
        "\n",
        "train_categorical.replace([-np.inf],0,inplace = True)\n",
        "train_categorical"
      ],
      "execution_count": 0,
      "outputs": []
    },
    {
      "cell_type": "code",
      "metadata": {
        "id": "cgwMdc7tjh6s",
        "colab_type": "code",
        "colab": {}
      },
      "source": [
        "#replacing column name with transforemd log column name\n",
        "\n",
        "train_numerical_col=train_numerical.columns\n",
        "train_categorical_col=train_categorical.columns"
      ],
      "execution_count": 0,
      "outputs": []
    },
    {
      "cell_type": "code",
      "metadata": {
        "id": "56_buatIkgp_",
        "colab_type": "code",
        "colab": {}
      },
      "source": [
        "# taking SalePrice in 1 dataframe for both categorical and numerical plotting\n",
        "SalePrice_Log_df=pd.DataFrame()\n",
        "SalePrice_Log_df['SalePrice_Log']=np.log(train['SalePrice']).copy()\n",
        "SalePrice_Log_df"
      ],
      "execution_count": 0,
      "outputs": []
    },
    {
      "cell_type": "code",
      "metadata": {
        "id": "oZaG-wOGkucU",
        "colab_type": "code",
        "colab": {}
      },
      "source": [
        "#plotting corr for numerical and categorical\n",
        "\n",
        "from scipy.stats.stats import pearsonr\n",
        "import seaborn as sns\n",
        "import matplotlib.pyplot as plt\n",
        "sns.set(color_codes=True)\n",
        "train_numerical_corr=pd.DataFrame()\n",
        "nr=18\n",
        "nc=2\n",
        "fig, axes = plt.subplots(nr,nc, figsize=(10,50))\n",
        "#train_numerical_col=train_numerical.columns\n",
        "\n",
        "for r in range(0,18,1):\n",
        "  for c in range (0,2,1):\n",
        "      i=r*nc+c\n",
        "      try:\n",
        "        corr, p_value = pearsonr(train_numerical[train_numerical_col[i]], y=SalePrice_Log_df['SalePrice_Log'])\n",
        "        sns.regplot(x=train_numerical[train_numerical_col[i]], y=SalePrice_Log_df['SalePrice_Log'],ax=axes[r][c])\n",
        "        if (corr < -0.6) or (corr > 0.6):\n",
        "          train_numerical_corr[train_numerical_col[i]]=train_numerical[train_numerical_col[i]].copy()\n",
        "        axes[r][c].set_xlabel(train_numerical_col[i],labelpad=3,fontsize=15)\n",
        "        axes[r][c].set_ylabel('SalePrice_Log',fontsize=20)\n",
        "        axes[r][c].set_title('corr:{0:4.2f}'.format(corr),size=20)\n",
        "        \n",
        "      except IndexError as error:\n",
        "        print(\"Running!!!\") \n",
        "fig.tight_layout()\n",
        "plt.savefig('correlation.jpg')\n",
        "plt.show()"
      ],
      "execution_count": 0,
      "outputs": []
    },
    {
      "cell_type": "code",
      "metadata": {
        "id": "QkCMUxFYk44h",
        "colab_type": "code",
        "colab": {}
      },
      "source": [
        "from scipy.stats.stats import pearsonr\n",
        "import seaborn as sns\n",
        "import matplotlib.pyplot as plt\n",
        "sns.set(color_codes=True)\n",
        "train_categorical_corr=pd.DataFrame()\n",
        "nr=22\n",
        "nc=2\n",
        "fig, axes = plt.subplots(nr,nc, figsize=(10,50))\n",
        "#train_numerical_col=train_numerical.columns\n",
        "count=1\n",
        "for r in range(0,22,1):\n",
        "  for c in range (0,2,1):\n",
        "      i=r*nc+c\n",
        "      try:\n",
        "        corr, p_value = pearsonr(train_categorical[train_categorical_col[i]], y=SalePrice_Log_df['SalePrice_Log'])\n",
        "        sns.regplot(x=train_categorical[train_categorical_col[i]], y=SalePrice_Log_df['SalePrice_Log'],ax=axes[r][c])\n",
        "        #print('Yes!!',count, train_categorical_col[i], corr)\n",
        "        if (corr < -0.4) or (corr > 0.4):\n",
        "          #print('inside corr condition',train_categorical_col[i], corr)\n",
        "          train_categorical_corr[train_categorical_col[i]]=train_categorical[train_categorical_col[i]]\n",
        "        axes[r][c].set_xlabel(train_categorical_col[i],labelpad=3,fontsize=15)\n",
        "        axes[r][c].set_ylabel('SalePrice_Log',fontsize=20)\n",
        "        axes[r][c].set_title('corr:{0:4.2f}'.format(corr),size=20)\n",
        "        count=count+1\n",
        "      except IndexError as error:\n",
        "        print(\"Running!!!\") \n",
        "fig.tight_layout()\n",
        "plt.savefig('correlation.jpg')\n",
        "plt.show()"
      ],
      "execution_count": 0,
      "outputs": []
    },
    {
      "cell_type": "code",
      "metadata": {
        "id": "nAooWQogk-qJ",
        "colab_type": "code",
        "colab": {}
      },
      "source": [
        "train_categorical_corr['GarageType_Log'].dtype"
      ],
      "execution_count": 0,
      "outputs": []
    },
    {
      "cell_type": "code",
      "metadata": {
        "id": "mHouRpSYlB4x",
        "colab_type": "code",
        "colab": {}
      },
      "source": [
        "train_numerical_corr"
      ],
      "execution_count": 0,
      "outputs": []
    },
    {
      "cell_type": "code",
      "metadata": {
        "id": "Y9fSvCeqn7dp",
        "colab_type": "code",
        "colab": {}
      },
      "source": [
        "#concatenating both dataframe\n",
        "train_cat_num=pd.DataFrame()\n",
        "train_cat_num=pd.concat([train_numerical_corr,train_categorical_corr],axis=1)\n",
        "train_cat_num"
      ],
      "execution_count": 0,
      "outputs": []
    },
    {
      "cell_type": "code",
      "metadata": {
        "id": "7fHitnCxoisj",
        "colab_type": "code",
        "colab": {}
      },
      "source": [
        "corr_heatmap=train_cat_num.corr()\n",
        "corr_heatmap"
      ],
      "execution_count": 0,
      "outputs": []
    },
    {
      "cell_type": "code",
      "metadata": {
        "id": "kgNjOpxrsqkW",
        "colab_type": "code",
        "colab": {}
      },
      "source": [
        "for i in corr_heatmap:\n",
        "  for j in corr_heatmap[i]:\n",
        "     if (j>-0.55) and (j<0.6):\n",
        "       corr_heatmap.replace(to_replace =j,value= np.nan,inplace=True) \n",
        "\n",
        "fig, ax = plt.subplots(figsize=(15,7)) \n",
        "sns.heatmap(corr_heatmap, annot = True,linewidths=.5)\n"
      ],
      "execution_count": 0,
      "outputs": []
    },
    {
      "cell_type": "code",
      "metadata": {
        "id": "fbMyRirdI8TR",
        "colab_type": "code",
        "colab": {}
      },
      "source": [
        "#'OverallQual','GarageCars','ExterQual_Log'\n",
        "[train_cat_num.drop(col ,axis=1,inplace=True) for col in train_cat_num if col not in ['OverallQual','GarageCars','ExterQual_Log','SalePrice_Log']]\n"
      ],
      "execution_count": 0,
      "outputs": []
    },
    {
      "cell_type": "code",
      "metadata": {
        "id": "Sgk994PzoVjf",
        "colab_type": "code",
        "colab": {}
      },
      "source": [
        "train_cat_num\n"
      ],
      "execution_count": 0,
      "outputs": []
    },
    {
      "cell_type": "code",
      "metadata": {
        "id": "rp7pybM6on5l",
        "colab_type": "code",
        "colab": {}
      },
      "source": [
        "from sklearn.model_selection import train_test_split\n",
        "\n",
        "X = train_cat_num[['OverallQual','GarageCars','ExterQual_Log']]\n",
        "y = train_cat_num['SalePrice_Log']\n",
        "\n",
        "print(X)\n",
        "print(y)\n",
        "\n",
        "X_train, X_test, y_train, y_test = train_test_split(X, y, test_size=0.2, random_state=0)"
      ],
      "execution_count": 0,
      "outputs": []
    },
    {
      "cell_type": "code",
      "metadata": {
        "id": "GLNndsNKpHT2",
        "colab_type": "code",
        "colab": {}
      },
      "source": [
        "import seaborn as seabornInstance\n",
        "\n",
        "plt.figure(figsize=(15,10))\n",
        "plt.tight_layout()\n",
        "seabornInstance.distplot(train_cat_num['SalePrice_Log'])"
      ],
      "execution_count": 0,
      "outputs": []
    },
    {
      "cell_type": "code",
      "metadata": {
        "id": "I08WoXMmqznW",
        "colab_type": "code",
        "colab": {}
      },
      "source": [
        "regressor = LinearRegression()  \n",
        "regressor.fit(X_train, y_train)"
      ],
      "execution_count": 0,
      "outputs": []
    },
    {
      "cell_type": "code",
      "metadata": {
        "id": "82oP1yEzrd0n",
        "colab_type": "code",
        "colab": {}
      },
      "source": [
        "#To see what coefficients our regression model has choosen\n",
        "from sklearn.linear_model import LinearRegression\n",
        "\n",
        "coeff_df = pd.DataFrame(regressor.coef_, X.columns, columns=['Coefficient'])  \n",
        "coeff_df"
      ],
      "execution_count": 0,
      "outputs": []
    },
    {
      "cell_type": "code",
      "metadata": {
        "id": "5XH5GJVVtgQL",
        "colab_type": "code",
        "colab": {}
      },
      "source": [
        "y_pred = regressor.predict(X_test)"
      ],
      "execution_count": 0,
      "outputs": []
    },
    {
      "cell_type": "code",
      "metadata": {
        "id": "GzZu_sstrfdT",
        "colab_type": "code",
        "colab": {}
      },
      "source": [
        "df = pd.DataFrame({'Actual': y_test, 'Predicted': y_pred})\n",
        "\n",
        "df.head(25)"
      ],
      "execution_count": 0,
      "outputs": []
    },
    {
      "cell_type": "code",
      "metadata": {
        "id": "NV3npQLUtmJI",
        "colab_type": "code",
        "colab": {}
      },
      "source": [
        "#plot the comparison of Actual and Predicted values\n",
        "\n",
        "df1.plot(kind='bar',figsize=(10,8))\n",
        "#plt.grid(which='major', linestyle='-', linewidth='0.5', color='green')\n",
        "#plt.grid(which='minor', linestyle=':', linewidth='0.5', color='black')\n",
        "plt.show()"
      ],
      "execution_count": 0,
      "outputs": []
    },
    {
      "cell_type": "code",
      "metadata": {
        "id": "ta2fBDcnuekA",
        "colab_type": "code",
        "colab": {}
      },
      "source": [
        "from sklearn import metrics\n",
        "\n",
        "print('Mean Absolute Error:', metrics.mean_absolute_error(y_test, y_pred))  \n",
        "print('Mean Squared Error:', metrics.mean_squared_error(y_test, y_pred))  \n",
        "print('Root Mean Squared Error:', np.sqrt(metrics.mean_squared_error(y_test, y_pred)))"
      ],
      "execution_count": 0,
      "outputs": []
    },
    {
      "cell_type": "code",
      "metadata": {
        "id": "rXkZiBcEv_E8",
        "colab_type": "code",
        "colab": {}
      },
      "source": [
        ""
      ],
      "execution_count": 0,
      "outputs": []
    }
  ]
}