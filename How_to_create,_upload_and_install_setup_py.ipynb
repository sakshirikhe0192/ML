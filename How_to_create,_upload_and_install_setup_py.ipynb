{
  "nbformat": 4,
  "nbformat_minor": 0,
  "metadata": {
    "colab": {
      "name": "How to create, upload and install setup.py",
      "provenance": [],
      "collapsed_sections": [],
      "authorship_tag": "ABX9TyOHJmPelaIj5Z2dFn0J1GMG",
      "include_colab_link": true
    },
    "kernelspec": {
      "name": "python3",
      "display_name": "Python 3"
    },
    "language_info": {
      "name": "python"
    }
  },
  "cells": [
    {
      "cell_type": "markdown",
      "metadata": {
        "id": "view-in-github",
        "colab_type": "text"
      },
      "source": [
        "<a href=\"https://colab.research.google.com/github/sakshirikhe0192/ML/blob/master/How_to_create%2C_upload_and_install_setup_py.ipynb\" target=\"_parent\"><img src=\"https://colab.research.google.com/assets/colab-badge.svg\" alt=\"Open In Colab\"/></a>"
      ]
    },
    {
      "cell_type": "markdown",
      "metadata": {
        "id": "4JGIeAckjrxG"
      },
      "source": [
        "\n",
        "\n",
        "\n",
        "\n",
        "\n",
        "\n",
        "*  pip install wheel\n",
        "*  pip install twine\n",
        "*  pip install setuptools\n",
        "\n",
        "*  create a folder which contains package and setup.py file\n",
        "\n",
        "#setup.py\n",
        "\n",
        "```\n",
        "from setuptools import find_packages, setup\n",
        "\n",
        "setup(\n",
        "    name='sakshi',\n",
        "    version='1.1',\n",
        "    packages=find_packages(),\n",
        "    Summary: 'NLTK and SpaCy',\n",
        "    Author: 'Sakshi Rikhe',\n",
        "    Author-email: 'sakshirikhe0192@gmail.com',\n",
        "    Description: 'Text processing using NLTK and SpaCy'\n",
        "    Platform: 'Python',\n",
        ")\n",
        "```\n",
        "\n",
        "\n",
        "```\n",
        "--today\n",
        "  --sakshi\n",
        "  --setup.py\n",
        "```\n",
        "\n",
        "\n",
        "*   This will create several new directories, such as dist, build and egg-info. You’ll find two files in dist: a compressed tar file and a wheel file.\n",
        "\n",
        "\n",
        "    **python setup.py sdist bdist_wheel**\n",
        "\n",
        "*   This will upload your package on PyPI avaliable to all\n",
        "\n",
        "\n",
        "    twine upload dist/* \n",
        "\n",
        "    pip install pkg\n",
        "\n",
        "https://pypi.org/manage/project/sakshi/releases/ "
      ]
    }
  ]
}