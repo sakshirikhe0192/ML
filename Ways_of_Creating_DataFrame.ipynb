{
  "nbformat": 4,
  "nbformat_minor": 0,
  "metadata": {
    "colab": {
      "name": "Pandas.ipynb",
      "provenance": [],
      "collapsed_sections": [],
      "authorship_tag": "ABX9TyO3Csk/YHh3a6QZDEH35X0v",
      "include_colab_link": true
    },
    "kernelspec": {
      "name": "python3",
      "display_name": "Python 3"
    },
    "language_info": {
      "name": "python"
    }
  },
  "cells": [
    {
      "cell_type": "markdown",
      "metadata": {
        "id": "view-in-github",
        "colab_type": "text"
      },
      "source": [
        "<a href=\"https://colab.research.google.com/github/sakshirikhe0192/ML/blob/master/Ways_of_Creating_DataFrame.ipynb\" target=\"_parent\"><img src=\"https://colab.research.google.com/assets/colab-badge.svg\" alt=\"Open In Colab\"/></a>"
      ]
    },
    {
      "cell_type": "markdown",
      "metadata": {
        "id": "YGVZqJxRLtMA"
      },
      "source": [
        "pandas is a fast, powerful, flexible and easy to use open source data analysis and manipulation tool, built on top of the Python programming language. Pandas has a better performance when number of rows is 500K or more\n",
        "\n",
        "***Ways to create dataframe***"
      ]
    },
    {
      "cell_type": "code",
      "metadata": {
        "id": "5fF6JDQ2MzGh"
      },
      "source": [
        "#1 creating an empty dataframe and filling values\n",
        "\n",
        "import pandas as pd\n",
        "import numpy as np\n",
        "\n",
        "df=pd.DataFrame(columns=['A','B','C'])\n",
        "df['A']=[1,2,3] #adding values in dataframe using columns, data type of column will be type of values \n",
        "df.loc[0]=[4,2,3] #adding values in dataframe using rows will always take object data type of columns\n",
        "df.loc[1]=[4,2,3] \n",
        "df.loc[2]=[4,2,3]\n",
        "df.loc[0:1,'B']=3\n",
        "df.fillna(2)\n",
        "df.loc[1,'C']=6\n",
        "df.loc[1:2,'B']=[0,0]\n",
        "print(df.dtypes)"
      ],
      "execution_count": null,
      "outputs": []
    },
    {
      "cell_type": "code",
      "metadata": {
        "id": "gShVmCDiNHdf"
      },
      "source": [
        "#2 creating using simple numpy array\n",
        "\n",
        "a=np.array([[1,2,3],[4,5,6],[7,8,9]])\n",
        "df=pd.DataFrame(a,columns=['A','B','C'],index=['a','b','c'])"
      ],
      "execution_count": null,
      "outputs": []
    },
    {
      "cell_type": "code",
      "metadata": {
        "id": "v47fnDWub4dg"
      },
      "source": [
        "#3 creating using dictionary\n",
        "\n",
        "d={'A':[1,2,3],'B':[4,5,6],'C':[7,8,9]}\n",
        "df=pd.DataFrame(d,index=['a','b','c'])"
      ],
      "execution_count": null,
      "outputs": []
    },
    {
      "cell_type": "code",
      "metadata": {
        "id": "sTTnyN2mdQ41"
      },
      "source": [
        "#4 list of dictionary\n",
        "\n",
        "ld=[{'A':1,'B':1,'C':1},\n",
        "    {'A':2,'B':2}]\n",
        "\n",
        "df=pd.DataFrame(ld)"
      ],
      "execution_count": null,
      "outputs": []
    },
    {
      "cell_type": "code",
      "metadata": {
        "id": "3Zvq0gBndVyr"
      },
      "source": [
        "#5 creating using from_dict dictionary\n",
        "\n",
        "d={'A':[1,2,3],'B':[4,5,6],'C':[7,8,9]}\n",
        "df=pd.DataFrame.from_dict(d,orient='index',columns=['a','b','c'])\n",
        "df"
      ],
      "execution_count": null,
      "outputs": []
    },
    {
      "cell_type": "code",
      "metadata": {
        "id": "Z0yv4ZbJRoft"
      },
      "source": [
        "#6 using read_csv file\n",
        "\n",
        "df=pd.DataFrame('data.csv')\n",
        "df"
      ],
      "execution_count": null,
      "outputs": []
    },
    {
      "cell_type": "code",
      "metadata": {
        "id": "B0-8sSmiRFiu"
      },
      "source": [
        "#7 using StringIO for csv file\n",
        "\n",
        "from io import StringIO\n",
        "\n",
        "s=StringIO('A,B,C\\n1,2,3\\n4,5,6\\n7,8,9')\n",
        "df=pd.DataFrame(s)"
      ],
      "execution_count": null,
      "outputs": []
    },
    {
      "cell_type": "code",
      "metadata": {
        "id": "8T84xJsoRf3-"
      },
      "source": [
        "#8 using read_json file\n",
        "\n",
        "df = pd.read_json('data.json',lines=True)\n",
        "df"
      ],
      "execution_count": null,
      "outputs": []
    },
    {
      "cell_type": "code",
      "metadata": {
        "id": "R5urcj3jRM6u"
      },
      "source": [
        "#9 using StringIo for JSON file\n",
        "\n",
        "s=StringIO('{\"A\":1,\"B\":2,\"C\":3}\\n{\"A\":1,\"B\":2,\"C\":3}\\n{\"A\":1,\"B\":2,\"C\":3}')\n",
        "df=pd.read_json(s,lines=True)\n",
        "df"
      ],
      "execution_count": null,
      "outputs": []
    },
    {
      "cell_type": "code",
      "metadata": {
        "id": "OEFGT0qFUv81"
      },
      "source": [
        "#10 reading html data\n",
        "\n",
        "import requests\n",
        "from bs4 import BeautifulSoup\n",
        "url='http://www.nationmaster.com/country-info/stats/Media/Internet-users'\n",
        "\n",
        "\n",
        "res = requests.get(url)\n",
        "soup = BeautifulSoup(res.content,'lxml') #soupisthe data in parsed format\n",
        "table = soup.find_all('table')[0] #here find_all will return list but we want fisrt element only so [0]\n",
        "df = pd.read_html(str(table))[0]  #here find_all will return list but we want fisrt element only so [0]\n",
        "df\n",
        "\n",
        "#OR\n",
        "\n",
        "source = pd.read_html(requests.get(url).text)\n",
        "\n"
      ],
      "execution_count": null,
      "outputs": []
    },
    {
      "cell_type": "code",
      "metadata": {
        "id": "t3w1o2PJpzb5"
      },
      "source": [
        "#11 from copy of other dataframe\n",
        "\n",
        "df_copy = df.copy()   # copy into a new dataframe object\n",
        "df_copy = df"
      ],
      "execution_count": null,
      "outputs": []
    },
    {
      "cell_type": "code",
      "metadata": {
        "id": "pxW1V3Nvp_Pr"
      },
      "source": [
        "#12 horizontal concatenation of dataframe\n",
        "\n",
        "a1=np.array([[1,2,3],[4,5,6],[7,8,9]])\n",
        "a2=np.array([[0,9,8],[7,6,5],[4,3,2]])\n",
        "\n",
        "df1=pd.DataFrame(a1,columns=['A','B','C'])\n",
        "df2=pd.DataFrame(a2,columns=['A','B','C'])\n",
        "\n",
        "df3=pd.concat([df1,df2],axis=0).reset_index(drop=True)\n",
        "\n",
        "#13 vertical concatenation of Dataframe\n",
        "\n",
        "df4=pd.DataFrame([df1,df2],axis=1)                                        "
      ],
      "execution_count": null,
      "outputs": []
    },
    {
      "cell_type": "code",
      "metadata": {
        "id": "8g9atH6LwUvd"
      },
      "source": [
        "#14 horizontal concatenation with inner join\n",
        "\n",
        "d1={'A':[1,2,3],'B':[3,5,6],'C':[7,8,9]}\n",
        "d2={'B':[3,5],'D':[7,8]}\n",
        "\n",
        "df1=pd.DataFrame(d1)\n",
        "df2=pd.DataFrame(d2)\n",
        "\n",
        "df=pd.merge(df1,df2,how = 'right',on = ['B'])#right left and inner join \n",
        "\n",
        "#OR\n",
        "\n",
        "d1={'A':[1,2,3],'B':[3,5,6],'C':[7,8,9]}\n",
        "d2={'A':[1,5],'B':[3,5],'D':[7,8]}\n",
        "\n",
        "df1=pd.DataFrame(d1)\n",
        "df2=pd.DataFrame(d2)\n",
        "\n",
        "df=pd.merge(df1,df2,how = 'inner',on = ['A','B'])#right left and inner join \n",
        "df"
      ],
      "execution_count": null,
      "outputs": []
    },
    {
      "cell_type": "code",
      "metadata": {
        "id": "rgx5qA6s0SV3"
      },
      "source": [
        "#15 as transpose\n",
        "\n",
        "d1={'A':[1,2,3],'B':[3,5,6],'C':[7,8,9]}\n",
        "df1=pd.DataFrame(d1)\n",
        "\n",
        "df=df.T\n",
        "df\n"
      ],
      "execution_count": null,
      "outputs": []
    },
    {
      "cell_type": "code",
      "metadata": {
        "id": "qLBqOWBsC-HM"
      },
      "source": [
        "#16 creating Dataframe using random int\n",
        "\n",
        "df = pd.DataFrame(np.random.randint(low=0, high=10, size=(5, 5)),\n",
        "               columns=['a', 'b', 'c', 'd', 'e'])"
      ],
      "execution_count": null,
      "outputs": []
    }
  ]
}