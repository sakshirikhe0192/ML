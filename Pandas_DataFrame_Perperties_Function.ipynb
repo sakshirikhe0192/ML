{
  "nbformat": 4,
  "nbformat_minor": 0,
  "metadata": {
    "colab": {
      "name": "Pandas_DataFrame_Perperties_Function.ipynb",
      "provenance": [],
      "collapsed_sections": [],
      "authorship_tag": "ABX9TyPM1R+sETUgEFVgWXEDwDRn",
      "include_colab_link": true
    },
    "kernelspec": {
      "name": "python3",
      "display_name": "Python 3"
    },
    "language_info": {
      "name": "python"
    }
  },
  "cells": [
    {
      "cell_type": "markdown",
      "metadata": {
        "id": "view-in-github",
        "colab_type": "text"
      },
      "source": [
        "<a href=\"https://colab.research.google.com/github/sakshirikhe0192/ML/blob/master/Pandas_DataFrame_Perperties_Function.ipynb\" target=\"_parent\"><img src=\"https://colab.research.google.com/assets/colab-badge.svg\" alt=\"Open In Colab\"/></a>"
      ]
    },
    {
      "cell_type": "markdown",
      "metadata": {
        "id": "G0p2p3C063k_"
      },
      "source": [
        "**Different Manupulations and Data Analysis properties and functions of DataFrame**"
      ]
    },
    {
      "cell_type": "code",
      "metadata": {
        "id": "F24sYlms62j1"
      },
      "source": [
        "#loaded csv file with 100 rows, changed int to float for columns, set index as Car_ID\n",
        "\n",
        "import pandas as pd\n",
        "\n",
        "df=pd.read_csv(r\"C:\\Users\\Dell\\Desktop\\DailyClassNotes\\Car_Price_Pridiction_Model\\CarPrice_Assignment.csv\",\n",
        "                nrows=100,index_col='car_ID',\n",
        "               dtype={'curbweight':np.float64,'symboling':np.float64,'enginesize':np.float64,'horsepower':np.float64,'peakrpm':np.float64,'citympg':np.float64,'highwaympg':np.float64},\n",
        "              #skiprows=,skip_blank_lines=True/False,keep_date_col=,usecols=[]\n",
        "              )\n",
        "df"
      ],
      "execution_count": null,
      "outputs": []
    },
    {
      "cell_type": "code",
      "metadata": {
        "id": "CEh5yDVtBaEN"
      },
      "source": [
        "#to check columns and count\n",
        "\n",
        "df.columns\n",
        "\n",
        "#to check rows by columns in df\n",
        "df.shape\n",
        "\n",
        "#to check dimension of df\n",
        "df.ndim\n",
        "\n",
        "#to check number of elements in dataframe object\n",
        "df.size\n",
        "\n",
        "#toget details for dtype of columns, nullvalues\n",
        "df.info\n",
        "\n",
        "#to access element at particular position and change it\n",
        "df.at[4,'doornumber']='five'\n",
        "#ERROR: df.at[4]\n",
        "#NOTE: 'at' require 2 arguments i.r rowand column and loc can be accessible by either row OR row and column\n",
        "\n",
        "df.loc[4,'doornumber']='four'\n",
        "\n",
        "#NOTE: 'iloc' means access using index and 'loc' means accessing using labels\n",
        "\n",
        "df.iat[0,'doornumber']='four'\n",
        "\n",
        "df.iloc[0,'doornumber']='four'\n",
        "\n",
        "#to get deatils about access i.e rows and columns\n",
        "df.axes\n",
        "\n",
        "#to check data types of columns\n",
        "df.dtypes\n",
        "\n",
        "#to check if dataframe is empty\n",
        "df.empty\n",
        "\n",
        "#to check index of dataframe\n",
        "df.index\n",
        "\n",
        "#to get the numpy representation of df \n",
        "df.values"
      ],
      "execution_count": null,
      "outputs": []
    },
    {
      "cell_type": "code",
      "metadata": {
        "id": "S8H68YMj7D3B"
      },
      "source": [
        "#abs()\n",
        "\n",
        "a=np.random.randint(low=-4,high=4,size=(4,4))\n",
        "df=pd.DataFrame(a)\n",
        "df.abs()\n",
        "\n",
        "df = pd.DataFrame({\n",
        "    'a': [4, 5, 6, 7],\n",
        "    'b': [10, 20, 30, 40],\n",
        "    'c': [100, 50, -30, -50]\n",
        "})\n",
        "\n",
        "df.iloc[(df.c).abs().argsort()] #order by\n",
        "\n",
        "#mathematical operations\n",
        "\n",
        "d={'Mangoes':[35,64,23,10],'Banana':[89,32,56,89],'Oranges':[23,56,45,87],'Grapes':[45,100,54,77]}\n",
        "\n",
        "df = pd.DataFrame(d,index=['Comp1','Comp2','Comp3','Comp4'])\n",
        "df\n",
        "\n",
        "df-1 #df.sub(1)\n",
        "df+1 #df.add(1)\n",
        "df*2 #df.mul(1)\n",
        "df%2 #df.rdiv(1)\n",
        "df/2 #df.div(1)\n",
        "\n",
        "df.add([1,2,3,0]) #default column\n",
        "df.add([1,2,3,0],axis='rows')\n",
        "df.add(pd.Series([1,2,3,0],index=['Comp1','Comp2','Comp3','Comp4']),axis='index')\n",
        "df.add(pd.DataFrame({'Mangoes':[1,2,3]},index=['Comp1','Comp2','Comp3']),fill_value=0)\n",
        "\n",
        "#to amend/modify column name\n",
        "df.add_prefix('Hello_')\n",
        "df.add_suffix('Hello_')\n",
        "\n",
        "#to amend/modify index name\n",
        "df.rename('{}_Hello'.format)\n",
        "df.rename('Hello_{}'.format)\n",
        "\n",
        "#to amend indexof Series\n",
        "s=pd.Series([1,2,3,4],index=['Comp1','Comp2','Comp3','Comp4'])\n",
        "s.add_prefix('Hello_')\n",
        "s.add_suffix('_Hello')\n",
        "\n",
        "#to describe dataframe\n",
        "df.agg(['mean','max','count']) #df.describe()\n",
        "df.agg({'Mangoes':['sum','mean','std'],'Grapes':['count']})"
      ],
      "execution_count": null,
      "outputs": []
    },
    {
      "cell_type": "code",
      "metadata": {
        "id": "gCa4Ub2O825-"
      },
      "source": [
        "#all(axis='') it will check all value in df/series if True columnwise/rowwise\n",
        "\n",
        "(df['Mangoes']/2!=0).all(axis='rows')\n",
        "(df['Mangoes']%2==0).any(axis='rows') #if any of the value is True \n",
        "\n",
        "#concate dataframe with same column/differenet columns, row wise/column wise, inner/outer join\n",
        "d1={'Mangoes':[35,64,23,10],'Banana':[89,32,56,89],'Oranges':[23,56,45,87],'Grapes':[45,100,54,77]}\n",
        "\n",
        "df1 = pd.DataFrame(d1,index=['Comp1','Comp2','Comp3','Comp4'])\n",
        "df1\n",
        "\n",
        "d2={'Mangoes':[3,6,2,1],'Banana':[8,3,5,8],'Oranges':[2,5,5,7],'Grapes':[5,10,5,7]}\n",
        "\n",
        "df2 = pd.DataFrame(d2,index=['Comp1','Comp2','Comp3','Comp4'])\n",
        "df2\n",
        "\n",
        "pd.concat([df1,df2],keys=['f1','f2'],axis='columns')\n",
        "\n",
        "df3=pd.DataFrame({'Oranges':[9,1,5,7],'PineApple':[5,6,8,9]})\n",
        "df3\n",
        "\n",
        "pd.concat([df2,df3],ignore_index=1,join='inner')\n",
        "\n",
        "#append will only append in row wise\n",
        "df1.append(df2,ignore_index=1)\n",
        "\n",
        "#merge\n",
        "\n",
        "df2.merge(df3,how='left',on='Oranges')\n",
        "\n",
        "#2 dataframe where no columns are sames\n",
        "df2.merge(df3,how='cross')\n",
        "\n",
        "df1.join(df2,on='key')#will throw error for column name overlapping\n",
        "df1.merge(df2,how='inner',on='key')#will rename column name n gives output\n",
        "\n",
        "\n",
        "df1.set_index('key').join(df2,lsuffix='_x',rsuffix='_y',how='inner',on='key')# incorrect\n",
        "df1.set_index('key').merge(df2,on='key')# correct\n",
        "\n",
        "#assign is used to add new column in df, if we want to add new column from other df then can use join\n",
        "d1={'A':[1,2,3,4],'B':[4,5,6,4],'C':[7,8,9,4]}\n",
        "df1=pd.DataFrame(d1)\n",
        "\n",
        "df1.assign(D=df1.A+df1.B+df1.C,\n",
        "          E=df1.A*df1.B*+df1.C)"
      ],
      "execution_count": null,
      "outputs": []
    },
    {
      "cell_type": "code",
      "metadata": {
        "id": "goQ3Avwhpe6G"
      },
      "source": [
        "#apply and applymap\n",
        "\n",
        "df.applymap(lambda x: x**2)\n",
        "df.A.applymap(lambda x: x**2)#error,applymap camt be applied on series\n",
        "df.A.apply(lambda x: x**2)#correct,apply can work on both series and dataframe\n",
        "\n"
      ],
      "execution_count": null,
      "outputs": []
    },
    {
      "cell_type": "code",
      "metadata": {
        "id": "sjWjTrGWKRII"
      },
      "source": [
        "#asfreq is used to change the frequency of timeseries (series of occuring a event wrt time) and allocating values with fill_values/bfill(down value)/ffill (up value)\n",
        "\n",
        "i=pd.date_range('28/05/2021',periods=5,freq='T')\n",
        "\n",
        "s=pd.Series([1,2,None,None,0],index=i)\n",
        "df=pd.DataFrame(s)\n",
        "df.asfreq(freq='30S',method='ffill')\n",
        "\n",
        "#asof and at_time is used to fetch the details of parameters occured at that particular event using time/date/datetime\n",
        "\n",
        "df=pd.DataFrame({'A':[None,2,5,8,None],'B':[1,None,4,None,6]},index=i)\n",
        "print(df)\n",
        "df.asof(pd.date_range('28/05/2021',periods=10,freq='30s'),subset=['A'])\n",
        "\n",
        "#between_time is use to fetch the records between 2 timestamps\n",
        "\n",
        "d1={'A':[1,2,3,None],'C':[7,None,9,4]}\n",
        "i=pd.date_range('20210528',periods=4,freq='D30T')\n",
        "df1=pd.DataFrame(d1,index=i)\n",
        "\n",
        "df1.between_time('00:30','1:30',include_start=False,include_end=False)"
      ],
      "execution_count": null,
      "outputs": []
    },
    {
      "cell_type": "code",
      "metadata": {
        "id": "IgdXZEtbSl6P"
      },
      "source": [
        "#astype i use to convert the datatype of series/df\n",
        "\n",
        "df1.astype('int32').dtypes\n",
        "df1.astype({'A':'int32'})\n",
        "df1.astype('category').dtypes"
      ],
      "execution_count": null,
      "outputs": []
    },
    {
      "cell_type": "code",
      "metadata": {
        "id": "Lm6Cv8dTX98G"
      },
      "source": [
        "#to fill null values in df\n",
        "\n",
        "d1={'A':[1,2,3,None],'B':pd.date_range('20210528',periods=4,freq='30T'),'C':[7,None,9,4]}\n",
        "\n",
        "df1=pd.DataFrame(d1)\n",
        "df1.backfill(axis=0) #df1.fillna(method='bfill') df1.bfill(axis=1)"
      ],
      "execution_count": null,
      "outputs": []
    },
    {
      "cell_type": "code",
      "metadata": {
        "id": "ynzW8h1JT0k4"
      },
      "source": [
        "#pd.boxplot and seaborn\n",
        "\n",
        "np.random.seed(1234)\n",
        "df = pd.DataFrame(np.random.randn(10, 4),\n",
        "                  columns=['Col1', 'Col2', 'Col3', 'Col4'])\n",
        "df['Group']=pd.Series(['A','B','B','A','A','B','B','A','A','B'])\n",
        "df['Days']=pd.Series(['Mon','Tue','Wed','Mon','Thrus','Fri','Thrus','Tue','Wed','Mon'])\n",
        "print(df)\n",
        "boxplot = df.boxplot(by='Days',column=['Col1'],rot=45)\n",
        "\n",
        "#using seaborn\n",
        "\n",
        "tips=sns.load_dataset('tips')\n",
        "sns.boxplot(data=tips,x='sex',y='total_bill',hue='smoker',order=['Female','Male'])\n",
        "sns.swarmplot(data=tips,x='sex',y='total_bill',order=['Female','Male'])\n",
        "\n",
        "\n",
        "#to add 3rd category we can use catplot and keep kind='box'\n",
        "sns.catplot(data=tips,x='sex',y='total_bill',col='time',hue='smoker',kind=\"box\",order=['Female','Male'])\n",
        "\n",
        "#sns.distplot(x)\n",
        "\n",
        "#checking skewness from box plot\n",
        "\n",
        "sns.boxplot(data=tips.iloc[np.where(tips['sex']=='Male')],\n",
        "                           x='sex',\n",
        "                           y=np.log(tips.iloc[np.where(tips['sex']=='Male')].total_bill))"
      ],
      "execution_count": null,
      "outputs": []
    },
    {
      "cell_type": "code",
      "metadata": {
        "id": "fW1F6fyASGFO"
      },
      "source": [
        "#clip is used to limit the maxand min value in df\n",
        "\n",
        "d1={'key1':[1,4,6,8],'key2':[1,4,7,8],'key3':[1,4,10,8]}\n",
        "df=pd.DataFrame(d1)\n",
        "\n",
        "t = pd.Series([2, -4, -1, 6, 3])\n",
        "df.clip(2,7)\n",
        "df.clip(t, t + 4, axis=0)"
      ],
      "execution_count": null,
      "outputs": []
    },
    {
      "cell_type": "code",
      "metadata": {
        "id": "tj9XX1J6Td6z"
      },
      "source": [
        "df1=df2 # share same memory location, change of data on 1 reflect in other\n",
        "df1=df2.copy(deep=True)# will work as view in numpy. no memory location share, chnage in element\n",
        "df1=df2.copy()#no memory location share, no change in element  "
      ],
      "execution_count": null,
      "outputs": []
    },
    {
      "cell_type": "code",
      "metadata": {
        "id": "qtjd3k49TiDw"
      },
      "source": [
        "df.corr(method='pearson') # use to calculate pair wise correlation in 1 dataframe only. method=pearson,kendall,spearman\n",
        "df1.corrwith(df2,axis=0,method='pearson',drop=True)#use to calculate correlation between 2 dataframe\n",
        "                                                    #drop=True will drop columns/rows not matching"
      ],
      "execution_count": null,
      "outputs": []
    },
    {
      "cell_type": "code",
      "metadata": {
        "id": "Ms6bGdBETkqx"
      },
      "source": [
        "#creating multilevel index\n",
        "\n",
        "d={'class':['A','A','A','B','B','C','C','C','C'],'section':[1,2,3,1,2,1,2,3,4],\n",
        "   'name':['s','A','k','s','h','i','r','k','k'],'rollno':[11,22,33,12,21,10,23,34,45]}\n",
        "\n",
        "school=pd.DataFrame(d).set_index(['class','section'])\n",
        "\n",
        "idx = pd.IndexSlice\n",
        "school.loc[idx['A':'B',1:2],]"
      ],
      "execution_count": null,
      "outputs": []
    },
    {
      "cell_type": "code",
      "metadata": {
        "id": "Lj6fHj85TmPe"
      },
      "source": [
        "#cummulative function in dataframe\n",
        "\n",
        "df1=pd.DataFrame([[1,2,3],[4,5,6],[7,8,9]],columns=['A','B','C'],index=['a','b','c'])\n",
        "df1.cumsum(axis=)#by default axis is 0\n",
        "df1.cumprod()\n",
        "df1.cummax()\n",
        "df1.cummin()\n",
        "df1.diff() # used to find difference in values"
      ],
      "execution_count": null,
      "outputs": []
    },
    {
      "cell_type": "code",
      "metadata": {
        "id": "g2oyoG3eTntW"
      },
      "source": [
        "#arthematic functions in dataframe\n",
        "\n",
        "df1.add([2,4,6],fill_value=2)#first it will fill null value and then add as per array passed\n",
        "df1.sub([2,4,6],fill_value=2)\n",
        "df1.div([2,4,6],fill_value=2)\n",
        "df1.mul([2,4,6],fill_value=2)\n",
        "\n",
        "#dataframe multiplication\n",
        "\n",
        "df1.dot(df2) OR df1 @ df2 #index also play important role while multiplying df with series"
      ],
      "execution_count": null,
      "outputs": []
    }
  ]
}